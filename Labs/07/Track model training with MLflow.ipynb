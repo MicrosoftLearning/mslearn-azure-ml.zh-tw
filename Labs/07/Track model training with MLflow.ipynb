{
  "cells": [
    {
      "cell_type": "markdown",
      "metadata": {},
      "source": [
        "# 使用 MLflow 追蹤筆記本中的模型定型\n",
        "\n",
        "您可以在筆記本中使用 MLflow 來追蹤您定型的任何模型。 當您使用 Azure Machine Learning 計算實例執行此筆記本時，您不需要設定 MLflow：它已安裝並整合。 \n",
        "\n",
        "您將準備一些資料，並定型模型以預測糖尿病。 您將使用自動記錄和自訂記錄來探索如何在筆記本中使用 MLflow。\n",
        "\n",
        "## 開始之前\n",
        "\n",
        "您將需要最新版的 **azureml-ai-ml** 套件，才能在此筆記本中執行程式碼。 執行下列資料格，以確認其已安裝。\n",
        "\n",
        "> **注意**：\n",
        "> 如果未安裝 **azure-ai-ml** 套件，請執行 `pip install azure-ai-ml` 加以安裝。"
      ]
    },
    {
      "cell_type": "code",
      "execution_count": null,
      "metadata": {
        "jupyter": {
          "outputs_hidden": false,
          "source_hidden": false
        },
        "nteract": {
          "transient": {
            "deleting": false
          }
        },
        "vscode": {
          "languageId": "python"
        }
      },
      "outputs": [],
      "source": [
        "## 連線到您的工作區\n",
        "\n",
        "安裝必要的 SDK 套件之後，您現在可以連線到您的工作區。\n",
        "\n",
        "若要連線到工作區，我們需要識別碼參數 - 訂用帳戶識別碼、資源組名和工作區名稱。 資源組名和工作區名稱已為您填入。 您只需要訂用帳戶識別碼才能完成命令。\n",
        "\n",
        "若要尋找必要的參數，請按一下 Studio 右上方的訂用帳戶和工作區名稱。 窗格會在右側開啟。\n",
        "\n",
        "<p style=\"color:red;font-size:120%;background-color:yellow;font-weight:bold\"> 複製訂用帳戶識別碼，並將 **YOUR-SUBSCRIPTION-ID** 取代為您複製的值。 </p>"
      ]
    },
    {
      "attachments": {},
      "cell_type": "markdown",
      "metadata": {},
      "source": [
        "## 設定 MLflow\n",
        "\n",
        "當您在Azure Machine Learning 工作室中的計算實例上執行此筆記本時，您不需要設定 MLflow。 \n",
        "\n",
        "不過，請務必確認確實已安裝必要的程式庫："
      ]
    },
    {
      "cell_type": "code",
      "execution_count": null,
      "metadata": {
        "gather": {
          "logged": 1668168317138
        },
        "jupyter": {
          "outputs_hidden": false,
          "source_hidden": false
        },
        "nteract": {
          "transient": {
            "deleting": false
          }
        },
        "vscode": {
          "languageId": "python"
        }
      },
      "outputs": [],
      "source": [
        "## 準備資料\n",
        "\n",
        "您將訓練糖尿病分類模型。 定型資料會以**diabetes.csv**儲存在**資料**資料夾中。 \n",
        "\n",
        "首先，讓我們讀取資料："
      ]
    },
    {
      "cell_type": "code",
      "execution_count": null,
      "metadata": {
        "gather": {
          "logged": 1668168324029
        },
        "jupyter": {
          "outputs_hidden": false,
          "source_hidden": false
        },
        "nteract": {
          "transient": {
            "deleting": false
          }
        },
        "vscode": {
          "languageId": "python"
        }
      },
      "outputs": [],
      "source": [
        "接下來，您將將資料分割成特徵，以及 (糖尿病) 標籤："
      ]
    },
    {
      "cell_type": "markdown",
      "metadata": {},
      "source": [
        "您現在有四個數據框架：\n",
        "\n",
        "- `X_train`：包含功能的訓練資料集。\n",
        "- `X_test`：包含特徵的測試資料集。\n",
        "- `y_train`：訓練資料集的標籤。\n",
        "- `y_test`：測試資料集的標籤。\n",
        "\n",
        "您將使用這些方法來定型和評估您將定型的模型。\n",
        "\n",
        "## 建立 MLflow 實驗\n",
        "\n",
        "既然您已準備好定型機器學習模型，您必須先建立 MLflow 實驗。 藉由建立實驗，您可以將所有執行分組在一個實驗內，並更輕鬆地在 Studio 中尋找執行。"
      ]
    },
    {
      "cell_type": "code",
      "execution_count": null,
      "metadata": {
        "gather": {
          "logged": 1668168155287
        },
        "jupyter": {
          "outputs_hidden": false,
          "source_hidden": false
        },
        "nteract": {
          "transient": {
            "deleting": false
          }
        },
        "vscode": {
          "languageId": "python"
        }
      },
      "outputs": [],
      "source": [
        "## 定型和追蹤模型\n",
        "\n",
        "若要追蹤您定型的模型，您可以使用 MLflow 並啟用自動記錄。 下列資料格會使用羅吉斯回歸來定型分類模型。 您會發現，您不需要計算任何評估計量，因為它們會自動由 MLflow 建立和記錄。"
      ]
    },
    {
      "cell_type": "code",
      "execution_count": null,
      "metadata": {
        "gather": {
          "logged": 1668168179344
        },
        "jupyter": {
          "outputs_hidden": false,
          "source_hidden": false
        },
        "nteract": {
          "transient": {
            "deleting": false
          }
        },
        "vscode": {
          "languageId": "python"
        }
      },
      "outputs": [],
      "source": [
        "您也可以搭配 MLflow 使用自訂記錄。 您可以將自訂記錄新增至自動記錄，或者只能使用自訂記錄。\n",
        "\n",
        "讓我們使用 scikit-learn 來訓練兩個以上的模型。 由於您先前已執行 `mlflow.sklearn.autolog()` 命令，MLflow 現在會自動記錄使用 scikit-learn 定型的任何模型。 若要停用自動記錄，請執行下列儲存格："
      ]
    },
    {
      "cell_type": "markdown",
      "metadata": {},
      "source": [
        "現在，您只能使用自訂記錄來定型和追蹤模型。 \n",
        "\n",
        "當您執行下列資料格時，您只會記錄一個參數和一個計量。"
      ]
    },
    {
      "cell_type": "code",
      "execution_count": null,
      "metadata": {
        "gather": {
          "logged": 1668175953133
        },
        "vscode": {
          "languageId": "python"
        }
      },
      "outputs": [],
      "source": [
        "您想要追蹤模型的原因可能是比較您定型的模型結果與不同的超參數值。 \n",
        "\n",
        "例如，您剛剛定型了具有 0.1 正規化速率的羅吉斯回歸模型。 現在，將另一個模型定型，但這次的正規化速率為 0.01。 由於您也會追蹤精確度，因此您可以比較並決定哪一個速率會產生較佳的執行模型。"
      ]
    },
    {
      "cell_type": "markdown",
      "metadata": {},
      "source": [
        "追蹤模型結果的另一個原因是當您測試另一個估算器時。 到目前為止，您已定型的所有模型都會使用羅吉斯回歸估算器。 \n",
        "\n",
        "執行下列資料格，使用決策樹分類器估算器來定型模型，並檢閱精確度是否比其他執行更高。"
      ]
    },
    {
      "cell_type": "code",
      "execution_count": null,
      "metadata": {
        "gather": {
          "logged": 1668175956555
        },
        "vscode": {
          "languageId": "python"
        }
      },
      "outputs": [],
      "source": [
        "最後，讓我們嘗試記錄成品。 成品可以是任何檔案。 例如，您可以繪製 ROC 曲線，並將繪圖儲存為影像。 映射可以記錄為成品。 \n",
        "\n",
        "執行下列資料格來記錄參數、計量和成品。"
      ]
    },
    {
      "cell_type": "code",
      "execution_count": null,
      "metadata": {
        "gather": {
          "logged": 1668175959902
        },
        "vscode": {
          "languageId": "python"
        }
      },
      "outputs": [],
      "source": [
        "在Azure Machine Learning 工作室的 [作業] 頁面上檢閱模型的結果。 \n",
        "\n",
        "- 您會在 [**概**觀] 索引標籤的 **[參數**] 底下找到參數。\n",
        "- 您會在 [**概觀**] 索引標籤和 [計量] 索引標籤的 [**計量**] 底下找到**計量**。\n",
        "- 您會在 [ **輸出 + 記錄** ] 索引標籤中找到成品。\n",
        "\n",
        "![[作業] 頁面上輸出和記錄索引標籤的螢幕擷取畫面。](./images/output-logs.png)"
      ]
    },
    {
      "cell_type": "markdown",
      "metadata": {},
      "source": [
        "You now have four dataframes:\n",
        "\n",
        "- `X_train`: The training dataset containing the features.\n",
        "- `X_test`: The test dataset containing the features.\n",
        "- `y_train`: The label for the training dataset.\n",
        "- `y_test`: The label for the test dataset.\n",
        "\n",
        "You'll use these to train and evaluate the models you'll train.\n",
        "\n",
        "## Create an MLflow experiment\n",
        "\n",
        "Now that you're ready to train machine learning models, you'll first create an MLflow experiment. By creating the experiment, you can group all runs within one experiment and make it easier to find the runs in the studio."
      ]
    },
    {
      "cell_type": "code",
      "execution_count": null,
      "metadata": {
        "vscode": {
          "languageId": "python"
        }
      },
      "outputs": [],
      "source": [
        "import mlflow\n",
        "experiment_name = \"mlflow-experiment-diabetes\"\n",
        "mlflow.set_experiment(experiment_name)"
      ]
    },
    {
      "cell_type": "markdown",
      "metadata": {},
      "source": [
        "## Train and track models\n",
        "\n",
        "To track a model you train, you can use MLflow and enable autologging. The following cell will train a classification model using logistic regression. You'll notice that you don't need to calculate any evaluation metrics because they're automatically created and logged by MLflow."
      ]
    },
    {
      "cell_type": "code",
      "execution_count": null,
      "metadata": {
        "gather": {
          "logged": 1668176121803
        },
        "vscode": {
          "languageId": "python"
        }
      },
      "outputs": [],
      "source": [
        "from sklearn.linear_model import LogisticRegression\n",
        "\n",
        "with mlflow.start_run():\n",
        "    mlflow.sklearn.autolog()\n",
        "\n",
        "    model = LogisticRegression(C=1/0.1, solver=\"liblinear\").fit(X_train, y_train)\n"
      ]
    },
    {
      "cell_type": "markdown",
      "metadata": {},
      "source": [
        "You can also use custom logging with MLflow. You can add custom logging to autologging, or you can use only custom logging.\n",
        "\n",
        "Let's train two more models with scikit-learn. Since you ran the `mlflow.sklearn.autolog()` command before, MLflow will now automatically log any model trained with scikit-learn. To disable the autologging, run the following cell:"
      ]
    },
    {
      "cell_type": "code",
      "execution_count": null,
      "metadata": {
        "gather": {
          "logged": 1668177101622
        },
        "jupyter": {
          "outputs_hidden": false,
          "source_hidden": false
        },
        "nteract": {
          "transient": {
            "deleting": false
          }
        },
        "vscode": {
          "languageId": "python"
        }
      },
      "outputs": [],
      "source": [
        "mlflow.sklearn.autolog(disable=True)"
      ]
    },
    {
      "cell_type": "markdown",
      "metadata": {},
      "source": [
        "Now, you can train and track models using only custom logging. \n",
        "\n",
        "When you run the following cell, you'll only log one parameter and one metric."
      ]
    },
    {
      "cell_type": "code",
      "execution_count": null,
      "metadata": {
        "jupyter": {
          "outputs_hidden": false,
          "source_hidden": false
        },
        "nteract": {
          "transient": {
            "deleting": false
          }
        },
        "vscode": {
          "languageId": "python"
        }
      },
      "outputs": [],
      "source": [
        "from sklearn.linear_model import LogisticRegression\n",
        "import numpy as np\n",
        "\n",
        "with mlflow.start_run():\n",
        "    model = LogisticRegression(C=1/0.1, solver=\"liblinear\").fit(X_train, y_train)\n",
        "\n",
        "    y_hat = model.predict(X_test)\n",
        "    acc = np.average(y_hat == y_test)\n",
        "\n",
        "    mlflow.log_param(\"regularization_rate\", 0.1)\n",
        "    mlflow.log_metric(\"Accuracy\", acc)"
      ]
    },
    {
      "cell_type": "markdown",
      "metadata": {},
      "source": [
        "The reason why you'd want to track models, could be to compare the results of models you train with different hyperparameter values. \n",
        "\n",
        "For example, you just trained a logistic regression model with a regularization rate of 0.1. Now, train another model, but this time with a regularization rate of 0.01. Since you're also tracking the accuracy, you can compare and decide which rate results in a better performing model."
      ]
    },
    {
      "cell_type": "code",
      "execution_count": null,
      "metadata": {
        "gather": {
          "logged": 1668177593117
        },
        "jupyter": {
          "outputs_hidden": false,
          "source_hidden": false
        },
        "nteract": {
          "transient": {
            "deleting": false
          }
        },
        "vscode": {
          "languageId": "python"
        }
      },
      "outputs": [],
      "source": [
        "from sklearn.linear_model import LogisticRegression\n",
        "import numpy as np\n",
        "\n",
        "with mlflow.start_run():\n",
        "    model = LogisticRegression(C=1/0.01, solver=\"liblinear\").fit(X_train, y_train)\n",
        "\n",
        "    y_hat = model.predict(X_test)\n",
        "    acc = np.average(y_hat == y_test)\n",
        "\n",
        "    mlflow.log_param(\"regularization_rate\", 0.01)\n",
        "    mlflow.log_metric(\"Accuracy\", acc)"
      ]
    },
    {
      "cell_type": "markdown",
      "metadata": {},
      "source": [
        "Another reason to track your model's results is when you're testing another estimator. All models you've trained so far used the logistic regression estimator. \n",
        "\n",
        "Run the following cell to train a model with the decision tree classifier estimator and review whether the accuracy is higher compared to the other runs."
      ]
    },
    {
      "cell_type": "code",
      "execution_count": null,
      "metadata": {
        "gather": {
          "logged": 1668177807904
        },
        "jupyter": {
          "outputs_hidden": false,
          "source_hidden": false
        },
        "nteract": {
          "transient": {
            "deleting": false
          }
        },
        "vscode": {
          "languageId": "python"
        }
      },
      "outputs": [],
      "source": [
        "from sklearn.tree import DecisionTreeClassifier\n",
        "import numpy as np\n",
        "\n",
        "with mlflow.start_run():\n",
        "    model = DecisionTreeClassifier().fit(X_train, y_train)\n",
        "\n",
        "    y_hat = model.predict(X_test)\n",
        "    acc = np.average(y_hat == y_test)\n",
        "\n",
        "    mlflow.log_param(\"estimator\", \"DecisionTreeClassifier\")\n",
        "    mlflow.log_metric(\"Accuracy\", acc)"
      ]
    },
    {
      "cell_type": "markdown",
      "metadata": {},
      "source": [
        "Finally, let's try to log an artifact. An artifact can be any file. For example, you can plot the ROC curve and store the plot as an image. The image can be logged as an artifact. \n",
        "\n",
        "Run the following cell to log a parameter, metric, and an artifact."
      ]
    },
    {
      "cell_type": "code",
      "execution_count": null,
      "metadata": {
        "vscode": {
          "languageId": "python"
        }
      },
      "outputs": [],
      "source": [
        "from sklearn.tree import DecisionTreeClassifier\n",
        "from sklearn.metrics import roc_curve\n",
        "import matplotlib.pyplot as plt\n",
        "import numpy as np\n",
        "\n",
        "with mlflow.start_run():\n",
        "    model = DecisionTreeClassifier().fit(X_train, y_train)\n",
        "\n",
        "    y_hat = model.predict(X_test)\n",
        "    acc = np.average(y_hat == y_test)\n",
        "\n",
        "    # plot ROC curve\n",
        "    y_scores = model.predict_proba(X_test)\n",
        "\n",
        "    fpr, tpr, thresholds = roc_curve(y_test, y_scores[:,1])\n",
        "    fig = plt.figure(figsize=(6, 4))\n",
        "    # Plot the diagonal 50% line\n",
        "    plt.plot([0, 1], [0, 1], 'k--')\n",
        "    # Plot the FPR and TPR achieved by our model\n",
        "    plt.plot(fpr, tpr)\n",
        "    plt.xlabel('False Positive Rate')\n",
        "    plt.ylabel('True Positive Rate')\n",
        "    plt.title('ROC Curve')\n",
        "    plt.savefig(\"ROC-Curve.png\")\n",
        "\n",
        "    mlflow.log_param(\"estimator\", \"DecisionTreeClassifier\")\n",
        "    mlflow.log_metric(\"Accuracy\", acc)\n",
        "    mlflow.log_artifact(\"ROC-Curve.png\")"
      ]
    },
    {
      "cell_type": "markdown",
      "metadata": {},
      "source": [
        "Review the model's results on the Jobs page of the Azure Machine Learning studio. \n",
        "\n",
        "- You'll find the parameters under **Params** in the **Overview** tab.\n",
        "- You'll find the metrics under **Metrics** in the **Overview** tab, and in the **Metrics** tab.\n",
        "- You'll find the artifacts in the **Outputs + logs** tab.\n",
        "\n",
        "![Screenshot of outputs and logs tab on the Jobs page.](./images/output-logs.png)"
      ]
    }
  ],
  "metadata": {
    "interpreter": {
      "hash": "f2b2cd046deda8eabef1e765a11d0ec9aa9bd1d31d56ce79c815a38c323e14ec"
    },
    "kernel_info": {
      "name": "python38-azureml"
    },
    "kernelspec": {
      "display_name": "Python 3.8 - AzureML",
      "language": "python",
      "name": "python38-azureml"
    },
    "microsoft": {
      "host": {
        "AzureML": {
          "notebookHasBeenCompleted": true
        }
      }
    },
    "nteract": {
      "version": "nteract-front-end@1.0.0"
    }
  },
  "nbformat": 4,
  "nbformat_minor": 0
}